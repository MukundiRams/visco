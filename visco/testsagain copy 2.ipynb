{
 "cells": [
  {
   "cell_type": "code",
   "execution_count": null,
   "metadata": {},
   "outputs": [],
   "source": [
    "import numpy as np\n",
    "from daskms import xds_from_table,xds_from_ms\n",
    "import svdcompressor\n",
    "import svdaverager\n",
    "from casacore.tables import table\n",
    "import warnings\n",
    "import msodify\n",
    "import dask.array as da\n",
    "import compress\n"
   ]
  },
  {
   "cell_type": "code",
   "execution_count": 2,
   "metadata": {},
   "outputs": [],
   "source": [
    "msfile = '/home/mukundi/averaging/stimela_scripts/msdir/sim-svd-test.ms'\n",
    "mssub = '/home/mukundi/averaging/stimela_scripts/msdir/sim-simms.ms::ANTENNA'"
   ]
  },
  {
   "cell_type": "code",
   "execution_count": 3,
   "metadata": {},
   "outputs": [
    {
     "name": "stderr",
     "output_type": "stream",
     "text": [
      "11:04 14:44:28-BDSVD-INFO    | Decomposing visibilities for DATA_DESC_ID 0. FIELD_ID 0, and SCAN_NUMBER 1.\n",
      "11:04 14:44:28-BDSVD-INFO    | The following correlations are available:['XX', 'XY', 'YX', 'YY']\n",
      "11:04 14:44:28-BDSVD-INFO    | The user has selected the following correlations:['XX', 'XY', 'YX', 'YY']\n",
      "11:04 14:44:28-BDSVD-INFO    | Decomposing visibility data for baseline M000-M001 and correlation XX\n",
      "11:04 14:44:28-BDSVD-INFO    | Decomposing visibility data for baseline M000-M001 and correlation XY\n",
      "11:04 14:44:28-BDSVD-INFO    | Decomposing visibility data for baseline M000-M001 and correlation YX\n",
      "11:04 14:44:28-BDSVD-INFO    | Decomposing visibility data for baseline M000-M001 and correlation YY\n",
      "11:04 14:44:28-BDSVD-INFO    | Decomposing visibility data for baseline M001-M002 and correlation XX\n",
      "11:04 14:44:28-BDSVD-INFO    | Decomposing visibility data for baseline M001-M002 and correlation XY\n",
      "11:04 14:44:28-BDSVD-INFO    | Decomposing visibility data for baseline M001-M002 and correlation YX\n",
      "11:04 14:44:28-BDSVD-INFO    | Decomposing visibility data for baseline M001-M002 and correlation YY\n",
      "11:04 14:44:29-BDSVD-INFO    | The visibility data for baseline M000-M001 and correlation XX has been compressed and stored in SV1_DATA with a compression factor of 2.618181818181818.\n",
      "11:04 14:44:29-BDSVD-INFO    | The visibility data for baseline M000-M001 and correlation XY has been compressed and stored in SV1_DATA with a compression factor of 2.618181818181818.\n",
      "11:04 14:44:29-BDSVD-INFO    | The visibility data for baseline M000-M001 and correlation YX has been compressed and stored in SV1_DATA with a compression factor of 2.618181818181818.\n",
      "11:04 14:44:29-BDSVD-INFO    | The visibility data for baseline M000-M001 and correlation YY has been compressed and stored in SV1_DATA with a compression factor of 2.618181818181818.\n",
      "11:04 14:44:29-BDSVD-INFO    | The visibility data for baseline M001-M002 and correlation XX has been compressed and stored in SV1_DATA with a compression factor of 2.618181818181818.\n",
      "11:04 14:44:29-BDSVD-INFO    | The visibility data for baseline M001-M002 and correlation XY has been compressed and stored in SV1_DATA with a compression factor of 2.618181818181818.\n",
      "11:04 14:44:29-BDSVD-INFO    | The visibility data for baseline M001-M002 and correlation YX has been compressed and stored in SV1_DATA with a compression factor of 2.618181818181818.\n",
      "11:04 14:44:29-BDSVD-INFO    | The visibility data for baseline M001-M002 and correlation YY has been compressed and stored in SV1_DATA with a compression factor of 2.618181818181818.\n"
     ]
    },
    {
     "name": "stderr",
     "output_type": "stream",
     "text": [
      "11:04 14:44:32-BDSVD-ERROR   | Failed to write to Zarr format at /home/mukundi/bdsvd/: Could not find a Chunk Manager which recognises type <class 'dask.array.core.Array'>\n",
      "11:04 14:44:32-BDSVD-INFO    | Visibility data has been compressed in column DATA from data size of 6.79e-05 GB to a compressed data size of -2.10e-05 GB\n"
     ]
    },
    {
     "name": "stdout",
     "output_type": "stream",
     "text": [
      "(/code/casa/OS/Path.cc : 407) Failed AlwaysAssert getcwd(temp, 1024)\n",
      "(/code/casa/OS/Path.cc : 407) Failed AlwaysAssert getcwd(temp, 1024)\n"
     ]
    }
   ],
   "source": [
    "antlist = [[0,1],\n",
    "           [1,2],\n",
    "           ]\n",
    "compress.compress_visdata(msfile,correlation='XX,XY,YX,YY',compressionrank=1,outcol='SV1_DATA',antlist=antlist,zarr_output_path='/home/mukundi/bdsvd/')"
   ]
  },
  {
   "cell_type": "code",
   "execution_count": 10,
   "metadata": {},
   "outputs": [],
   "source": [
    "maintable = xds_from_table(msfile)[0]#,taql_where=(f\"DATA_DESC_ID=0 AND SCAN_NUMBER=1 AND FIELD_ID=0 AND ANTENNA1=0 AND ANTENNA2=1\"))[0]\n",
    "# tabl = table(msfile,readonly=False,lockoptions='auto')\n",
    "subtable = xds_from_table(mssub)[0]\n",
    "ant1_mask = (maintable.ANTENNA1.data.compute() == 0)\n",
    "ant2_mask = (maintable.ANTENNA2.data.compute() == 5)\n",
    "fieldidmask = (maintable.FIELD_ID.data.compute()==0)\n",
    "filter = ant1_mask & ant2_mask\n",
    "baseline_data = maintable.COMPRESSED_DATA.data[:,:,3]\n",
    "data = maintable.DATA.data[:,:,3]\n"
   ]
  },
  {
   "cell_type": "code",
   "execution_count": 11,
   "metadata": {},
   "outputs": [
    {
     "data": {
      "text/plain": [
       "((1.0002928972244263+0.00872578751295805j), (1.0002929+0.0087257875j))"
      ]
     },
     "execution_count": 11,
     "metadata": {},
     "output_type": "execute_result"
    }
   ],
   "source": [
    "baseline_data.compute()[0,20], data.compute()[0,20]"
   ]
  },
  {
   "cell_type": "code",
   "execution_count": 14,
   "metadata": {},
   "outputs": [
    {
     "data": {
      "text/plain": [
       "'M000'"
      ]
     },
     "execution_count": 14,
     "metadata": {},
     "output_type": "execute_result"
    }
   ],
   "source": [
    "subtable.NAME.values[0]"
   ]
  },
  {
   "cell_type": "code",
   "execution_count": null,
   "metadata": {},
   "outputs": [],
   "source": [
    "np.unique(list(zip([5,6],[5,7])))\n",
    "a = zip([5,6],[5,7])\n",
    "a = list(a)\n",
    "da.unique(np.array(a)).compute()"
   ]
  },
  {
   "cell_type": "code",
   "execution_count": null,
   "metadata": {},
   "outputs": [],
   "source": [
    "tab.DATA_DESC_ID.data.compute()"
   ]
  },
  {
   "cell_type": "code",
   "execution_count": null,
   "metadata": {},
   "outputs": [],
   "source": [
    "ranks = [4,5,6,7]\n",
    "\n",
    "for i in ranks:\n",
    "    run = svdaverager.uniform_svd(msfile,rank=i,column='DATA',correlation='XX,YY', outcol=f\"{i}SV_DATA\")"
   ]
  },
  {
   "cell_type": "code",
   "execution_count": 30,
   "metadata": {},
   "outputs": [],
   "source": [
    "# comp = tab.COMPRESSED_DATA.data.compute()[:,:,0]\n",
    "data = tab.CORRECTED_DATA.data.compute()[:,:,0]\n",
    "bs = tab.DATA.data.compute()[::2015,:,0]\n",
    "cf3 = tab.MODEL_DATA.data.compute()[:,:,0]\n",
    "dec999 = tab.BDSVD_DATA.data.compute()[::2016,:,0]\n",
    "# td = tab.TEST_DATA.data.compute()[:,:,0]\n",
    "rr = run.compressed_data.compute()[::2015,:,0]"
   ]
  },
  {
   "cell_type": "code",
   "execution_count": null,
   "metadata": {},
   "outputs": [],
   "source": [
    "tab"
   ]
  },
  {
   "cell_type": "code",
   "execution_count": 31,
   "metadata": {},
   "outputs": [],
   "source": [
    "signal = np.linalg.norm(rr-bs, 'fro') / np.linalg.norm(bs, 'fro')"
   ]
  },
  {
   "cell_type": "code",
   "execution_count": null,
   "metadata": {},
   "outputs": [],
   "source": []
  }
 ],
 "metadata": {
  "kernelspec": {
   "display_name": "tenv",
   "language": "python",
   "name": "python3"
  },
  "language_info": {
   "codemirror_mode": {
    "name": "ipython",
    "version": 3
   },
   "file_extension": ".py",
   "mimetype": "text/x-python",
   "name": "python",
   "nbconvert_exporter": "python",
   "pygments_lexer": "ipython3",
   "version": "3.11.0rc1"
  }
 },
 "nbformat": 4,
 "nbformat_minor": 2
}
